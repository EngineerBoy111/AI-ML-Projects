{
  "nbformat": 4,
  "nbformat_minor": 0,
  "metadata": {
    "colab": {
      "provenance": [],
      "authorship_tag": "ABX9TyN9+++aZ3hLFJPxDT4fPm1e",
      "include_colab_link": true
    },
    "kernelspec": {
      "name": "python3",
      "display_name": "Python 3"
    },
    "language_info": {
      "name": "python"
    }
  },
  "cells": [
    {
      "cell_type": "markdown",
      "metadata": {
        "id": "view-in-github",
        "colab_type": "text"
      },
      "source": [
        "<a href=\"https://colab.research.google.com/github/Talha-coder-01/AI-ML-Projects/blob/main/Weather_Forecasting_using_LSTM.ipynb\" target=\"_parent\"><img src=\"https://colab.research.google.com/assets/colab-badge.svg\" alt=\"Open In Colab\"/></a>"
      ]
    },
    {
      "cell_type": "code",
      "execution_count": 17,
      "metadata": {
        "id": "7padw8Vguvgt"
      },
      "outputs": [],
      "source": [
        "import requests\n",
        "from datetime import datetime, timedelta\n",
        "import statistics\n",
        "from google.colab import userdata\n"
      ]
    },
    {
      "cell_type": "code",
      "source": [
        "# OpenWeatherMap API configuration\n",
        "API_KEY = userdata.get('OPENWEATHERMAP_API_K')\n",
        "print(f\"API Key retrieved: {'Yes' if API_KEY else 'No'}\")\n",
        "print(f\"API Key length: {len(API_KEY) if API_KEY else 'N/A'}\")\n",
        "print(f\"First 5 characters of API Key: {API_KEY[:5] if API_KEY else 'N/A'}\")\n",
        "\n",
        "CITY = \"Islamabad\"\n",
        "COUNTRY_CODE = \"PK\"\n",
        "BASE_URL = \"http://api.openweathermap.org/data/2.5/weather\"\n",
        "HISTORICAL_URL = \"http://api.openweathermap.org/data/2.5/onecall/timemachine\""
      ],
      "metadata": {
        "colab": {
          "base_uri": "https://localhost:8080/"
        },
        "id": "RSwFSCsc77fH",
        "outputId": "2f6c1439-7c92-4029-9c41-11cc8e7a5a92"
      },
      "execution_count": 23,
      "outputs": [
        {
          "output_type": "stream",
          "name": "stdout",
          "text": [
            "API Key retrieved: Yes\n",
            "API Key length: 32\n",
            "First 5 characters of API Key: af423\n"
          ]
        }
      ]
    },
    {
      "cell_type": "code",
      "source": [
        "def get_current_weather():\n",
        "    params = {\n",
        "        \"q\": f\"{CITY},{COUNTRY_CODE}\",\n",
        "        \"appid\": API_KEY,\n",
        "        \"units\": \"metric\"\n",
        "    }\n",
        "    response = requests.get(BASE_URL, params=params)\n",
        "    data = response.json()\n",
        "\n",
        "    print(\"Current Weather API Response:\", data)\n",
        "\n",
        "    if 'main' not in data:\n",
        "        if 'message' in data:\n",
        "            raise ValueError(f\"API Error: {data['message']}\")\n",
        "        else:\n",
        "            raise ValueError(\"Unexpected API response format\")\n",
        "\n",
        "    return data[\"main\"][\"temp\"]"
      ],
      "metadata": {
        "id": "hzVGtExr9G9-"
      },
      "execution_count": 24,
      "outputs": []
    },
    {
      "cell_type": "code",
      "source": [
        "def get_historical_weather(date):\n",
        "    lat, lon = 33.7294, 73.0931  # Coordinates for Islamabad\n",
        "    params = {\n",
        "        \"lat\": lat,\n",
        "        \"lon\": lon,\n",
        "        \"dt\": int(date.timestamp()),\n",
        "        \"appid\": API_KEY,\n",
        "        \"units\": \"metric\"\n",
        "    }\n",
        "    response = requests.get(HISTORICAL_URL, params=params)\n",
        "    data = response.json()\n",
        "\n",
        "    print(f\"Historical Weather API Response for {date.date()}:\", data)\n",
        "\n",
        "    if 'hourly' not in data:\n",
        "        if 'message' in data:\n",
        "            print(f\"API Error for {date.date()}: {data['message']}\")\n",
        "        else:\n",
        "            print(f\"Unexpected API response format for {date.date()}\")\n",
        "        return None\n",
        "\n",
        "    return statistics.mean([hour_data[\"temp\"] for hour_data in data[\"hourly\"]])\n"
      ],
      "metadata": {
        "id": "yIPlomakBZFR"
      },
      "execution_count": 25,
      "outputs": []
    },
    {
      "cell_type": "code",
      "source": [
        "def main():\n",
        "    try:\n",
        "        if not API_KEY:\n",
        "            raise ValueError(\"API key not found or empty. Please set the OPENWEATHERMAP_API_KEY_ISLAMABAD secret in Colab.\")\n",
        "\n",
        "        temperatures = []\n",
        "\n",
        "        # Get current temperature\n",
        "        current_temp = get_current_weather()\n",
        "        temperatures.append(current_temp)\n",
        "        print(f\"Current temperature: {current_temp:.2f}°C\")\n",
        "\n",
        "        # Get historical temperatures for the past 4 days\n",
        "        for i in range(1, 5):\n",
        "            date = datetime.now() - timedelta(days=i)\n",
        "            temp = get_historical_weather(date)\n",
        "            if temp is not None:\n",
        "                temperatures.append(temp)\n",
        "                print(f\"Average temperature {i} day(s) ago: {temp:.2f}°C\")\n",
        "            else:\n",
        "                print(f\"Failed to retrieve temperature for {i} day(s) ago\")\n",
        "\n",
        "        # Calculate and print the overall average\n",
        "        if temperatures:\n",
        "            avg_temp = statistics.mean(temperatures)\n",
        "            print(f\"\\nOverall average temperature for the available days: {avg_temp:.2f}°C\")\n",
        "        else:\n",
        "            print(\"\\nNo temperature data available to calculate average.\")\n",
        "\n",
        "    except ValueError as e:\n",
        "        print(f\"Error: {e}\")\n",
        "    except Exception as e:\n",
        "        print(f\"An unexpected error occurred: {e}\")\n",
        "        import traceback\n",
        "        traceback.print_exc()\n",
        "\n",
        "if __name__ == \"__main__\":\n",
        "    main()\n",
        ""
      ],
      "metadata": {
        "colab": {
          "base_uri": "https://localhost:8080/"
        },
        "id": "El568e9SA2xk",
        "outputId": "f4387481-6c2e-441f-baa5-1078b4ab0f45"
      },
      "execution_count": 29,
      "outputs": [
        {
          "output_type": "stream",
          "name": "stdout",
          "text": [
            "Current Weather API Response: {'coord': {'lon': 73.1338, 'lat': 33.7104}, 'weather': [{'id': 800, 'main': 'Clear', 'description': 'clear sky', 'icon': '01d'}], 'base': 'stations', 'main': {'temp': 36.58, 'feels_like': 43.58, 'temp_min': 36.58, 'temp_max': 36.58, 'pressure': 1005, 'humidity': 50, 'sea_level': 1005, 'grnd_level': 926}, 'visibility': 10000, 'wind': {'speed': 2.24, 'deg': 237, 'gust': 1.42}, 'clouds': {'all': 0}, 'dt': 1727164053, 'sys': {'type': 2, 'id': 2007435, 'country': 'PK', 'sunrise': 1727139416, 'sunset': 1727182919}, 'timezone': 18000, 'id': 1162015, 'name': 'Islamabad', 'cod': 200}\n",
            "Current temperature: 36.58°C\n",
            "Historical Weather API Response for 2024-09-23: {'cod': 401, 'message': 'Invalid API key. Please see https://openweathermap.org/faq#error401 for more info.'}\n",
            "API Error for 2024-09-23: Invalid API key. Please see https://openweathermap.org/faq#error401 for more info.\n",
            "Failed to retrieve temperature for 1 day(s) ago\n",
            "Historical Weather API Response for 2024-09-22: {'cod': 401, 'message': 'Invalid API key. Please see https://openweathermap.org/faq#error401 for more info.'}\n",
            "API Error for 2024-09-22: Invalid API key. Please see https://openweathermap.org/faq#error401 for more info.\n",
            "Failed to retrieve temperature for 2 day(s) ago\n",
            "Historical Weather API Response for 2024-09-21: {'cod': 401, 'message': 'Invalid API key. Please see https://openweathermap.org/faq#error401 for more info.'}\n",
            "API Error for 2024-09-21: Invalid API key. Please see https://openweathermap.org/faq#error401 for more info.\n",
            "Failed to retrieve temperature for 3 day(s) ago\n",
            "Historical Weather API Response for 2024-09-20: {'cod': 401, 'message': 'Invalid API key. Please see https://openweathermap.org/faq#error401 for more info.'}\n",
            "API Error for 2024-09-20: Invalid API key. Please see https://openweathermap.org/faq#error401 for more info.\n",
            "Failed to retrieve temperature for 4 day(s) ago\n",
            "\n",
            "Overall average temperature for the available days: 36.58°C\n"
          ]
        }
      ]
    },
    {
      "cell_type": "code",
      "source": [],
      "metadata": {
        "id": "enUKJjTcA81x"
      },
      "execution_count": 27,
      "outputs": []
    }
  ]
}