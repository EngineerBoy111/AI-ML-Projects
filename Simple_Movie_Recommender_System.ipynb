{
  "nbformat": 4,
  "nbformat_minor": 0,
  "metadata": {
    "colab": {
      "provenance": [],
      "authorship_tag": "ABX9TyNLrrZ7Z1i+kv975yVGCQ/o",
      "include_colab_link": true
    },
    "kernelspec": {
      "name": "python3",
      "display_name": "Python 3"
    },
    "language_info": {
      "name": "python"
    }
  },
  "cells": [
    {
      "cell_type": "markdown",
      "metadata": {
        "id": "view-in-github",
        "colab_type": "text"
      },
      "source": [
        "<a href=\"https://colab.research.google.com/github/Talha-coder-01/AI-ML-Projects/blob/main/Simple_Movie_Recommender_System.ipynb\" target=\"_parent\"><img src=\"https://colab.research.google.com/assets/colab-badge.svg\" alt=\"Open In Colab\"/></a>"
      ]
    },
    {
      "cell_type": "code",
      "execution_count": 1,
      "metadata": {
        "id": "iKEkmcetFxu2"
      },
      "outputs": [],
      "source": [
        "import pandas as pd\n",
        "import numpy as np\n",
        "from sklearn.metrics.pairwise import cosine_similarity\n",
        "from sklearn.impute import SimpleImputer\n"
      ]
    },
    {
      "cell_type": "code",
      "source": [
        "# Load and prepare the data\n",
        "def load_data():\n",
        "    # Load movie ratings data\n",
        "    # In a real-world scenario, you'd load this from a file or database\n",
        "    ratings_data = {\n",
        "        'user_id': [1, 1, 1, 2, 2, 3, 3, 3, 4, 4],\n",
        "        'movie_id': [1, 2, 3, 1, 2, 1, 3, 4, 2, 4],\n",
        "        'rating': [5, 4, 3, 3, 2, 4, 5, 4, 3, 5]\n",
        "    }\n",
        "    df = pd.DataFrame(ratings_data)\n",
        "    return df"
      ],
      "metadata": {
        "id": "4eCuOJ-7Fycb"
      },
      "execution_count": 2,
      "outputs": []
    },
    {
      "cell_type": "code",
      "source": [
        "# Create a user-item matrix\n",
        "def create_matrix(df):\n",
        "    user_item_matrix = df.pivot(index='user_id', columns='movie_id', values='rating')\n",
        "    return user_item_matrix\n"
      ],
      "metadata": {
        "id": "YWmS7EfDF4mv"
      },
      "execution_count": 3,
      "outputs": []
    },
    {
      "cell_type": "code",
      "source": [
        "# Compute user similarity\n",
        "def compute_similarity(matrix):\n",
        "    # Fill NaN values with 0\n",
        "    imputer = SimpleImputer(strategy='constant', fill_value=0)\n",
        "    matrix_imputed = pd.DataFrame(imputer.fit_transform(matrix), columns=matrix.columns, index=matrix.index)\n",
        "\n",
        "    # Compute cosine similarity\n",
        "    user_similarity = cosine_similarity(matrix_imputed)\n",
        "    user_similarity_df = pd.DataFrame(user_similarity, index=matrix.index, columns=matrix.index)\n",
        "    return user_similarity_df\n"
      ],
      "metadata": {
        "id": "1Piv1odXF6ue"
      },
      "execution_count": 4,
      "outputs": []
    },
    {
      "cell_type": "code",
      "source": [
        "# Get top N similar users\n",
        "def get_similar_users(user_id, user_similarity_df, n=2):\n",
        "    similar_users = user_similarity_df[user_id].sort_values(ascending=False)[1:n+1]\n",
        "    return similar_users\n"
      ],
      "metadata": {
        "id": "4XQReZFjF_FT"
      },
      "execution_count": 5,
      "outputs": []
    },
    {
      "cell_type": "code",
      "source": [
        "# Generate recommendations\n",
        "def generate_recommendations(user_id, matrix, user_similarity_df, n=2):\n",
        "    similar_users = get_similar_users(user_id, user_similarity_df, n)\n",
        "    user_movies = set(matrix.loc[user_id].dropna().index)\n",
        "\n",
        "    recommendations = {}\n",
        "    for similar_user in similar_users.index:\n",
        "        similar_user_movies = set(matrix.loc[similar_user].dropna().index)\n",
        "        new_movies = similar_user_movies - user_movies\n",
        "        for movie in new_movies:\n",
        "            if movie not in recommendations:\n",
        "                recommendations[movie] = matrix.loc[similar_user, movie]\n",
        "\n",
        "    sorted_recommendations = sorted(recommendations.items(), key=lambda x: x[1], reverse=True)\n",
        "    return sorted_recommendations\n"
      ],
      "metadata": {
        "id": "7aR5ikqDGBTA"
      },
      "execution_count": 6,
      "outputs": []
    },
    {
      "cell_type": "code",
      "source": [
        "# Main function\n",
        "def main():\n",
        "    # Load data\n",
        "    df = load_data()\n",
        "    print(\"Data loaded successfully.\")\n",
        "\n",
        "    # Create user-item matrix\n",
        "    user_item_matrix = create_matrix(df)\n",
        "    print(\"\\nUser-Item Matrix:\")\n",
        "    print(user_item_matrix)\n",
        "\n",
        "    # Compute user similarity\n",
        "    user_similarity_df = compute_similarity(user_item_matrix)\n",
        "    print(\"\\nUser Similarity Matrix:\")\n",
        "    print(user_similarity_df)\n",
        "\n",
        "    # Generate recommendations for a specific user\n",
        "    user_id = 1\n",
        "    recommendations = generate_recommendations(user_id, user_item_matrix, user_similarity_df)\n",
        "\n",
        "    print(f\"\\nTop recommendations for User {user_id}:\")\n",
        "    for movie, rating in recommendations:\n",
        "        print(f\"Movie {movie}: Predicted rating {rating:.2f}\")\n",
        "\n",
        "if __name__ == \"__main__\":\n",
        "    main()"
      ],
      "metadata": {
        "colab": {
          "base_uri": "https://localhost:8080/"
        },
        "id": "NPmZsD5YGDyM",
        "outputId": "1ea84353-7d89-41d9-a8d3-99ed908d0bd3"
      },
      "execution_count": 7,
      "outputs": [
        {
          "output_type": "stream",
          "name": "stdout",
          "text": [
            "Data loaded successfully.\n",
            "\n",
            "User-Item Matrix:\n",
            "movie_id    1    2    3    4\n",
            "user_id                     \n",
            "1         5.0  4.0  3.0  NaN\n",
            "2         3.0  2.0  NaN  NaN\n",
            "3         4.0  NaN  5.0  4.0\n",
            "4         NaN  3.0  NaN  5.0\n",
            "\n",
            "User Similarity Matrix:\n",
            "user_id         1         2         3         4\n",
            "user_id                                        \n",
            "1        1.000000  0.902134  0.655610  0.291043\n",
            "2        0.902134  1.000000  0.440831  0.285391\n",
            "3        0.655610  0.440831  1.000000  0.454311\n",
            "4        0.291043  0.285391  0.454311  1.000000\n",
            "\n",
            "Top recommendations for User 1:\n",
            "Movie 4: Predicted rating 4.00\n"
          ]
        }
      ]
    },
    {
      "cell_type": "code",
      "source": [],
      "metadata": {
        "id": "LCjpMRYVGJ-2"
      },
      "execution_count": null,
      "outputs": []
    }
  ]
}